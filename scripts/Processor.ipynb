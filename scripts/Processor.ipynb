{
 "cells": [
  {
   "cell_type": "markdown",
   "id": "d9834756",
   "metadata": {},
   "source": [
    "## Overview\n",
    "This script aims to preprocess the excel spreadsheet of Motor Imagery, Thermal, Electrical, and Finger Tapping data. Then, it uses categorizes these data into the following groups for the Applied Machine Learning aspect.\n",
    "- Motor: Motor Imagery & Finger Tapping Data\n",
    "- Sesnory: Thermal & Electrical Data"
   ]
  },
  {
   "cell_type": "code",
   "execution_count": 2,
   "id": "afc9862d",
   "metadata": {},
   "outputs": [],
   "source": [
    "# Import required libraries\n",
    "import pandas as pd \n",
    "import numpy as np"
   ]
  },
  {
   "cell_type": "code",
   "execution_count": 3,
   "id": "a37dda5f",
   "metadata": {},
   "outputs": [],
   "source": [
    "# Read in each individual sheet in the excel spreadsheet\n",
    "fNIRS_tstats = pd.read_excel('../data/ds005776.xlsx', sheet_name=\"tstats\")\n",
    "fNIRS_bstats = pd.read_excel('../data/ds005776.xlsx', sheet_name=\"bstats\")"
   ]
  },
  {
   "cell_type": "code",
   "execution_count": 4,
   "id": "c6f6f66e",
   "metadata": {},
   "outputs": [],
   "source": [
    "# Fill all missing NA cells with a scalar value of 0\n",
    "fNIRS_tstats = fNIRS_tstats.fillna(0)\n",
    "fNIRS_bstats = fNIRS_bstats.fillna(0)"
   ]
  },
  {
   "cell_type": "code",
   "execution_count": 5,
   "id": "5ce2263b",
   "metadata": {},
   "outputs": [],
   "source": [
    "# Create a new 'Type' column and condition its value on the data type\n",
    "fNIRS_tstats['Type'] = np.where(\n",
    "    (fNIRS_tstats['Cond'] == 'FingerTapping') | (fNIRS_tstats['Cond'] == 'MotorImagery'),\n",
    "    'Motor',\n",
    "    'Sensory'\n",
    ")\n",
    "\n",
    "fNIRS_bstats['Type'] = np.where(\n",
    "    (fNIRS_bstats['Cond'] == 'FingerTapping') | (fNIRS_bstats['Cond'] == 'MotorImagery'),\n",
    "    'Motor',\n",
    "    'Sensory'\n",
    ")"
   ]
  },
  {
   "cell_type": "code",
   "execution_count": null,
   "id": "bb5986e6",
   "metadata": {},
   "outputs": [],
   "source": [
    "# Set the index of the dataframes to be by 'Type'\n",
    "fNIRS_tstats.set_index('Type', inplace=True)\n",
    "fNIRS_bstats.set_index('Type', inplace=True)"
   ]
  },
  {
   "cell_type": "code",
   "execution_count": 7,
   "id": "b973601e",
   "metadata": {},
   "outputs": [],
   "source": [
    "# Convert to a numpy array\n",
    "fNIRS_tstats_ndarray = fNIRS_tstats.to_numpy()\n",
    "fNIRS_bstats_ndarray = fNIRS_bstats.to_numpy()"
   ]
  },
  {
   "cell_type": "markdown",
   "id": "34572e80",
   "metadata": {},
   "source": [
    "### Machine Learning Models\n",
    "- This script takes in an N-Dimensional Array from NumPy and then trains ML Models using that data.\n",
    "- The N-Dimensional arrays will be split into training/testing sets and fed into a ML model\n",
    "#### Models\n",
    "- Linear Regression\n",
    "- LDA"
   ]
  },
  {
   "cell_type": "code",
   "execution_count": 12,
   "id": "533e914c",
   "metadata": {},
   "outputs": [],
   "source": [
    "from sklearn.svm import SVC\n",
    "from sklearn.datasets import make_classification\n",
    "from sklearn.model_selection import train_test_split\n",
    "from sklearn.metrics import accuracy_score"
   ]
  },
  {
   "cell_type": "code",
   "execution_count": 17,
   "id": "32abbcc3",
   "metadata": {},
   "outputs": [],
   "source": [
    "X=fNIRS_bstats_ndarray[:,5::]\n",
    "y=1*(fNIRS_tstats.index=='Motor')\n",
    "\n",
    "# Split into training and testing sets, everything up to here is the same\n",
    "X_train, X_test, y_train, y_test = train_test_split(X, y, test_size=0.3, random_state=42)"
   ]
  },
  {
   "cell_type": "code",
   "execution_count": null,
   "id": "814acaad",
   "metadata": {},
   "outputs": [
    {
     "name": "stdout",
     "output_type": "stream",
     "text": [
      "Accuracy: 0.6805555555555556\n"
     ]
    }
   ],
   "source": [
    "# Create and train the SVM model\n",
    "model = SVC(kernel='linear', C=5) # Only line that needs to change\n",
    "model.fit(X_train, y_train)\n",
    "\n",
    "# Make predictions\n",
    "y_pred = model.predict(X_test)\n",
    "\n",
    "# Evaluate the model\n",
    "print(\"Accuracy:\", accuracy_score(y_test, y_pred))"
   ]
  },
  {
   "cell_type": "markdown",
   "id": "538e4fea",
   "metadata": {},
   "source": [
    "## Models\n",
    "- Focus: LDA, Linear Classifier\n",
    "- Later: Neural Network "
   ]
  },
  {
   "cell_type": "code",
   "execution_count": 15,
   "id": "22663677",
   "metadata": {},
   "outputs": [
    {
     "name": "stdout",
     "output_type": "stream",
     "text": [
      "Accuracy: 0.6435185185185185\n"
     ]
    }
   ],
   "source": [
    "# Train an Polynomial Model\n",
    "model = SVC(kernel='poly', C=5) # Only line that needs to change\n",
    "model.fit(X_train, y_train)\n",
    "\n",
    "# Make predictions\n",
    "y_pred = model.predict(X_test)\n",
    "\n",
    "# Evaluate the model\n",
    "print(\"Accuracy:\", accuracy_score(y_test, y_pred))"
   ]
  },
  {
   "cell_type": "code",
   "execution_count": null,
   "id": "3cd39f88",
   "metadata": {},
   "outputs": [
    {
     "name": "stdout",
     "output_type": "stream",
     "text": [
      "Accuracy: 0.6435185185185185\n"
     ]
    }
   ],
   "source": [
    "# Train an RBF Model\n",
    "model = SVC(kernel='rbf', C=5) # Only line that needs to change\n",
    "model.fit(X_train, y_train)\n",
    "\n",
    "# Make predictions\n",
    "y_pred = model.predict(X_test)\n",
    "\n",
    "# Evaluate the model\n",
    "print(\"Accuracy:\", accuracy_score(y_test, y_pred))"
   ]
  },
  {
   "cell_type": "code",
   "execution_count": 20,
   "id": "5bed8151",
   "metadata": {},
   "outputs": [
    {
     "name": "stdout",
     "output_type": "stream",
     "text": [
      "Accuracy: 0.6944444444444444\n"
     ]
    }
   ],
   "source": [
    "from sklearn.discriminant_analysis import LinearDiscriminantAnalysis\n",
    "\n",
    "# Train an LDA Model\n",
    "lda = LinearDiscriminantAnalysis()\n",
    "lda.fit(X_train, y_train)\n",
    "\n",
    "# Make predictions\n",
    "y_pred = lda.predict(X_test)\n",
    "\n",
    "# Evaluate the model\n",
    "print(\"Accuracy:\", accuracy_score(y_test, y_pred))"
   ]
  }
 ],
 "metadata": {
  "kernelspec": {
   "display_name": ".venv",
   "language": "python",
   "name": "python3"
  },
  "language_info": {
   "codemirror_mode": {
    "name": "ipython",
    "version": 3
   },
   "file_extension": ".py",
   "mimetype": "text/x-python",
   "name": "python",
   "nbconvert_exporter": "python",
   "pygments_lexer": "ipython3",
   "version": "3.13.7"
  }
 },
 "nbformat": 4,
 "nbformat_minor": 5
}
