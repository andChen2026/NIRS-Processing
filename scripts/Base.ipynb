{
 "cells": [
  {
   "cell_type": "code",
   "execution_count": 5,
   "id": "a2b059d4",
   "metadata": {},
   "outputs": [
    {
     "name": "stdout",
     "output_type": "stream",
     "text": [
      "Model Accuracy: 1.00\n",
      "Prediction for new data point [[0.5 1.5]]: 1\n"
     ]
    }
   ],
   "source": [
    "import numpy as np\n",
    "from sklearn import svm\n",
    "from sklearn.model_selection import train_test_split\n",
    "from sklearn.metrics import accuracy_score\n",
    "from sklearn.datasets import make_classification\n",
    "\n",
    "# 1. Generate synthetic data for classification\n",
    "# This creates a dataset with 100 samples, 2 features, 2 classes, and some noise.\n",
    "X, y = make_classification(n_samples=100, n_features=2, n_informative=2,\n",
    "                           n_redundant=0, n_clusters_per_class=1, random_state=42)\n",
    "\n",
    "# 2. Split the data into training and testing sets\n",
    "X_train, X_test, y_train, y_test = train_test_split(X, y, test_size=0.3, random_state=42)\n",
    "\n",
    "# 3. Create an SVM classifier model\n",
    "# We use a Support Vector Classifier (SVC) with a linear kernel.\n",
    "# The 'C' parameter controls the regularization (smaller C means more regularization).\n",
    "model = svm.SVC(kernel='linear', C=1.0, random_state=42)\n",
    "\n",
    "# 4. Train the model using the training data\n",
    "model.fit(X_train, y_train)\n",
    "\n",
    "# 5. Make predictions on the test data\n",
    "y_pred = model.predict(X_test)\n",
    "\n",
    "# 6. Evaluate the model's performance\n",
    "accuracy = accuracy_score(y_test, y_pred)\n",
    "print(f\"Model Accuracy: {accuracy:.2f}\")\n",
    "\n",
    "# Optional: Predict a new, unseen data point\n",
    "new_data_point = np.array([[0.5, 1.5]])\n",
    "prediction = model.predict(new_data_point)\n",
    "print(f\"Prediction for new data point {new_data_point}: {prediction[0]}\")"
   ]
  }
 ],
 "metadata": {
  "kernelspec": {
   "display_name": ".venv",
   "language": "python",
   "name": "python3"
  },
  "language_info": {
   "codemirror_mode": {
    "name": "ipython",
    "version": 3
   },
   "file_extension": ".py",
   "mimetype": "text/x-python",
   "name": "python",
   "nbconvert_exporter": "python",
   "pygments_lexer": "ipython3",
   "version": "3.13.7"
  }
 },
 "nbformat": 4,
 "nbformat_minor": 5
}
